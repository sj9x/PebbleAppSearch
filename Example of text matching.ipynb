{
 "metadata": {
  "name": "",
  "signature": "sha256:e14119f7671c39d060d427c0b3c1337f6bf85bef4d81b760fc1bb6ee46b41a86"
 },
 "nbformat": 3,
 "nbformat_minor": 0,
 "worksheets": [
  {
   "cells": [
    {
     "cell_type": "code",
     "collapsed": false,
     "input": [
      "'''This file contains some of the methods used for matching text descriptions '''"
     ],
     "language": "python",
     "metadata": {},
     "outputs": []
    },
    {
     "cell_type": "code",
     "collapsed": false,
     "input": [
      "from pandas import read_csv, DataFrame\n",
      "import numpy as np\n",
      "from collections import Counter\n",
      "import random\n",
      "import re\n",
      "import pickle\n",
      "from numpy import unique\n",
      "from detectlanguage import detect_language\n",
      "import goslate\n",
      "\n",
      "from nltk.tokenize import RegexpTokenizer\n",
      "from nltk.corpus import stopwords\n",
      "from nltk.tokenize.punkt import PunktSentenceTokenizer\n",
      "from nltk.stem.porter import *\n",
      "from sklearn.decomposition import TruncatedSVD\n",
      "from sklearn.feature_extraction.text import TfidfVectorizer\n",
      "\n",
      "import lda\n",
      "from gensim import corpora, models, similarities\n",
      "from gensim.models import hdpmodel, ldamodel\n",
      "from itertools import izip"
     ],
     "language": "python",
     "metadata": {},
     "outputs": [],
     "prompt_number": 1
    },
    {
     "cell_type": "heading",
     "level": 1,
     "metadata": {},
     "source": [
      "Import Data"
     ]
    },
    {
     "cell_type": "code",
     "collapsed": false,
     "input": [
      "data=read_csv(\"Data.csv\")"
     ],
     "language": "python",
     "metadata": {},
     "outputs": [],
     "prompt_number": 2
    },
    {
     "cell_type": "code",
     "collapsed": false,
     "input": [
      "def wordsRemoveStopwords(text):\n",
      "    '''text should be input as a list of each element = description\n",
      "    This function returns the list of features of words'''\n",
      "    other_stopwords=['app','android','github','com','http','twitter','author','pebble','gmail','app','android','github','com','http','twitter','author','pebble','gmail','watch','version','new','google','http','www']\n",
      "    stemmer = PorterStemmer()\n",
      "    tokenizer=RegexpTokenizer(r'[a-zA-Z]+')\n",
      "    data_tokenized=[]\n",
      "    for data in text: \n",
      "        try:\n",
      "            tokenized_text=tokenizer.tokenize(str(data).lower())\n",
      "        except UnicodeEncodeError:\n",
      "            tokenized_text=tokenizer.tokenize('app')\n",
      "        data_tokenized.append([stemmer.stem(str(w)) for w in tokenized_text if len(w)>=3])\n",
      "    uniquefeatures=[]\n",
      "    for i in range(len(data_tokenized)):\n",
      "        data_tokenized[i] = [str(w) for w in data_tokenized[i] if not w in [word.encode(\"utf-8\") for word in stopwords.words('english')]+other_stopwords]\n",
      "    #print data_tokenized\n",
      "    #print (word_features(data_tokenized))\n",
      "    return data_tokenized\n",
      "\n",
      "def word_features(tokenizedText):\n",
      "    '''Takes the tokenized list and returns unique features'''\n",
      "    aggregatedList=[]\n",
      "    for i in range(len(tokenizedText)):\n",
      "        print aggregatedList, tokenizedText\n",
      "        aggregatedList=aggregatedList+str(tokenizedText[i])\n",
      "    uniquefeatures=list(set(aggregatedList))\n",
      "    return uniquefeatures\n",
      "        \n",
      "def tfidf(text):\n",
      "    #from sklearn.feature_extraction import text\n",
      "    #my_stop_words = text.ENGLISH_STOP_WORDS\n",
      "    '''text should be input as a list of each element = description\n",
      "    This function returns the list of features of words'''\n",
      "    other_stopwords=['app','android','github','com','http','twitter','author','pebble','gmail','watch','version','new','google','http','www']\n",
      "    stopWords = stopwords.words('english')+other_stopwords\n",
      "    vectorizer=TfidfVectorizer(decode_error=u'ignore',max_df=1.0, max_features=20000,\n",
      "                             stop_words=other_stopwords)\n",
      "    '''New thing'''\n",
      "    \n",
      "    \n",
      "    '''New Thing end'''\n",
      "    X_train = vectorizer.fit_transform(text)\n",
      "    X_train=X_train.toarray()\n",
      "    return X_train,vectorizer"
     ],
     "language": "python",
     "metadata": {},
     "outputs": [],
     "prompt_number": 5
    },
    {
     "cell_type": "heading",
     "level": 1,
     "metadata": {},
     "source": [
      "TFIDF + cosine"
     ]
    },
    {
     "cell_type": "code",
     "collapsed": false,
     "input": [
      "\n",
      "texts = wordsRemoveStopwords(X)\n",
      "for i in range(len(texts)):\n",
      "    texts[i]=[\" \".join(texts[i])][0]\n",
      "[X_train,vectorizer]=tfidf(texts)\n",
      "X_train = vectorizer.transform(texts)\n",
      "#X_train=X_train.toarray()\n"
     ],
     "language": "python",
     "metadata": {},
     "outputs": [],
     "prompt_number": 166
    },
    {
     "cell_type": "heading",
     "level": 1,
     "metadata": {},
     "source": [
      "Truncated SVD or LSI "
     ]
    },
    {
     "cell_type": "code",
     "collapsed": false,
     "input": [
      "svd = TruncatedSVD(n_components=600, random_state=42, n_iter=5)\n",
      "texts = wordsRemoveStopwords(X)\n",
      "for i in range(len(texts)):\n",
      "    texts[i]=[\" \".join(texts[i])][0]\n",
      "svd.fit(X_train) \n",
      "X_train_new=svd.transform(X_train)"
     ],
     "language": "python",
     "metadata": {},
     "outputs": [],
     "prompt_number": 162
    },
    {
     "cell_type": "heading",
     "level": 1,
     "metadata": {},
     "source": [
      "LDA model"
     ]
    },
    {
     "cell_type": "code",
     "collapsed": false,
     "input": [
      "perplex=[]\n",
      "for ntopics in range(1,400,20):\n",
      "    \n",
      "    documents = Xfull\n",
      "\n",
      "    # remove common words and tokenize\n",
      "    \n",
      "    texts = wordsRemoveStopwords(Xfull)\n",
      "\n",
      "    dictionary = corpora.Dictionary(texts)\n",
      "    corpus = [dictionary.doc2bow(text) for text in texts]\n",
      "\n",
      "\n",
      "\n",
      "# I can print out the documents and which is the most probable topics for each doc.\n",
      "    lda = ldamodel.LdaModel(corpus, id2word=dictionary, num_topics=ntopics, iterations=2000,passes=50,alpha=1.0/4000.0)\n",
      "    corpus_lda = lda[corpus]\n",
      "## TEST DATA \n",
      "    documents = description_testHold\n",
      "    stoplist = set('for a of the and to in'.split())\n",
      "    texts = wordsRemoveStopwords(description_testHold)\n",
      "\n",
      "    corpus2=[dictionary.doc2bow(text) for text in texts]\n",
      "    #corpus2_lda = lda[corpus2]\n",
      "    perplex.append(10**(lda.log_perplexity(corpus2)))\n",
      "    print perplex[-1]"
     ],
     "language": "python",
     "metadata": {},
     "outputs": []
    },
    {
     "cell_type": "code",
     "collapsed": false,
     "input": [
      "%pylab inline\n",
      "import pylab as plt\n",
      "nt=range(1,220+140,20)\n",
      "print len(nt)\n",
      "print len(perplex)\n",
      "plt.semilogy(nt[:9],(perplex[:9]),'k-o',linewidth=2.0)\n",
      "plt.xlabel('Number of topics', fontsize=18)\n",
      "plt.ylabel('Perplexity', fontsize=18)\n",
      "plt.rc('font', family='serif', size=18)\n",
      "savefig('perplexity.jpg')\n",
      "savefig('foo.png', bbox_inches='tight')"
     ],
     "language": "python",
     "metadata": {},
     "outputs": [
      {
       "output_type": "stream",
       "stream": "stdout",
       "text": [
        "Populating the interactive namespace from numpy and matplotlib\n",
        "18\n",
        "18\n"
       ]
      },
      {
       "output_type": "stream",
       "stream": "stderr",
       "text": [
        "WARNING: pylab import has clobbered these variables: ['plt']\n",
        "`%matplotlib` prevents importing * from pylab and numpy\n"
       ]
      },
      {
       "metadata": {},
       "output_type": "display_data",
       "png": "[encoded data removed]",
       "text": [
        "<matplotlib.figure.Figure at 0x112504dd0>"
       ]
      }
     ],
     "prompt_number": 132
    },
    {
     "cell_type": "code",
     "collapsed": false,
     "input": [
      "with open(\"perplexity\", 'wb') as f:\n",
      "        pickle.dump([nt,perplex], f)\n",
      "        f.close()"
     ],
     "language": "python",
     "metadata": {},
     "outputs": []
    },
    {
     "cell_type": "heading",
     "level": 2,
     "metadata": {},
     "source": [
      "Run for lda 200 and save"
     ]
    },
    {
     "cell_type": "code",
     "collapsed": false,
     "input": [
      "X=list(data.ix[:,'description'])\n",
      "titles=list(data.ix[:,'title'])\n",
      "URL=list(data.ix[:,'icon_image'])"
     ],
     "language": "python",
     "metadata": {},
     "outputs": [],
     "prompt_number": 8
    },
    {
     "cell_type": "code",
     "collapsed": false,
     "input": [
      "import time\n",
      "start_time=time.time()\n",
      "texts = wordsRemoveStopwords(X)\n",
      "dictionary = corpora.Dictionary(texts)\n",
      "corpus = [dictionary.doc2bow(text) for text in texts]\n",
      "lda = ldamodel.LdaModel(corpus, id2word=dictionary, num_topics=400, iterations=2000,passes=400,alpha='asymmetric')\n",
      "print time.time()-start_time"
     ],
     "language": "python",
     "metadata": {},
     "outputs": [
      {
       "output_type": "stream",
       "stream": "stdout",
       "text": [
        "5102.5507791\n"
       ]
      }
     ],
     "prompt_number": 30
    },
    {
     "cell_type": "code",
     "collapsed": false,
     "input": [
      "dictionary.save('foobar.txtdic')\n",
      "dictionary = corpora.Dictionary.load('foobar.txtdic')\n",
      "lda.save('lda400.lda')"
     ],
     "language": "python",
     "metadata": {},
     "outputs": [],
     "prompt_number": 31
    },
    {
     "cell_type": "code",
     "collapsed": false,
     "input": [
      "print lda"
     ],
     "language": "python",
     "metadata": {},
     "outputs": [
      {
       "output_type": "stream",
       "stream": "stdout",
       "text": [
        "LdaModel(num_terms=8341, num_topics=400, decay=0.5, chunksize=2000, alpha=[ 0.0162944   0.01551847  0.01481309  0.01416904  0.01357866  0.01303552\n",
        "  0.01253415  0.01206992  0.01163885  0.01123751  0.01086293  0.01051251\n",
        "  0.010184    0.00987539  0.00958494  0.00931108  0.00905244  0.00880778\n",
        "  0.008576    0.0083561   0.0081472   0.00794849  0.00775924  0.00757879\n",
        "  0.00740654  0.00724195  0.00708452  0.00693379  0.00678933  0.00665077\n",
        "  0.00651776  0.00638996  0.00626708  0.00614883  0.00603496  0.00592523\n",
        "  0.00581943  0.00571733  0.00561876  0.00552352  0.00543147  0.00534242\n",
        "  0.00525626  0.00517282  0.005092    0.00501366  0.0049377   0.004864\n",
        "  0.00479247  0.00472301  0.00465554  0.00458997  0.00452622  0.00446422\n",
        "  0.00440389  0.00434517  0.004288    0.00423231  0.00417805  0.00412516\n",
        "  0.0040736   0.00402331  0.00397424  0.00392636  0.00387962  0.00383398\n",
        "  0.00378939  0.00374584  0.00370327  0.00366166  0.00362098  0.00358119\n",
        "  0.00354226  0.00350417  0.00346689  0.0034304   0.00339467  0.00335967\n",
        "  0.00332539  0.0032918   0.00325888  0.00322661  0.00319498  0.00316396\n",
        "  0.00313354  0.00310369  0.00307441  0.00304568  0.00301748  0.0029898\n",
        "  0.00296262  0.00293593  0.00290971  0.00288396  0.00285867  0.00283381\n",
        "  0.00280938  0.00278537  0.00276176  0.00273855  0.00271573  0.00269329\n",
        "  0.00267121  0.0026495   0.00262813  0.0026071   0.00258641  0.00256605\n",
        "  0.002546    0.00252626  0.00250683  0.00248769  0.00246885  0.00245029\n",
        "  0.002432    0.00241398  0.00239623  0.00237874  0.00236151  0.00234452\n",
        "  0.00232777  0.00231126  0.00229499  0.00227894  0.00226311  0.0022475\n",
        "  0.00223211  0.00221692  0.00220195  0.00218717  0.00217259  0.0021582\n",
        "  0.002144    0.00212999  0.00211616  0.0021025   0.00208903  0.00207572\n",
        "  0.00206258  0.00204961  0.0020368   0.00202415  0.00201165  0.00199931\n",
        "  0.00198712  0.00197508  0.00196318  0.00195142  0.00193981  0.00192833\n",
        "  0.00191699  0.00190578  0.0018947   0.00188375  0.00187292  0.00186222\n",
        "  0.00185164  0.00184117  0.00183083  0.0018206   0.00181049  0.00180049\n",
        "  0.00179059  0.00178081  0.00177113  0.00176156  0.00175209  0.00174272\n",
        "  0.00173345  0.00172427  0.0017152   0.00170622  0.00169733  0.00168854\n",
        "  0.00167983  0.00167122  0.00166269  0.00165425  0.0016459   0.00163763\n",
        "  0.00162944  0.00162133  0.00161331  0.00160536  0.00159749  0.0015897\n",
        "  0.00158198  0.00157434  0.00156677  0.00155927  0.00155185  0.00154449\n",
        "  0.00153721  0.00152999  0.00152284  0.00151576  0.00150874  0.00150179\n",
        "  0.0014949   0.00148807  0.00148131  0.00147461  0.00146796  0.00146138\n",
        "  0.00145486  0.00144839  0.00144198  0.00143563  0.00142933  0.00142309\n",
        "  0.0014169   0.00141077  0.00140469  0.00139866  0.00139268  0.00138676\n",
        "  0.00138088  0.00137505  0.00136928  0.00136355  0.00135787  0.00135223\n",
        "  0.00134664  0.0013411   0.00133561  0.00133015  0.00132475  0.00131938\n",
        "  0.00131406  0.00130879  0.00130355  0.00129836  0.00129321  0.00128809\n",
        "  0.00128302  0.00127799  0.001273    0.00126805  0.00126313  0.00125825\n",
        "  0.00125342  0.00124861  0.00124385  0.00123912  0.00123442  0.00122977\n",
        "  0.00122514  0.00122055  0.001216    0.00121148  0.00120699  0.00120254\n",
        "  0.00119812  0.00119373  0.00118937  0.00118505  0.00118075  0.00117649\n",
        "  0.00117226  0.00116806  0.00116389  0.00115974  0.00115563  0.00115155\n",
        "  0.00114749  0.00114347  0.00113947  0.0011355   0.00113156  0.00112764\n",
        "  0.00112375  0.00111989  0.00111605  0.00111225  0.00110846  0.0011047\n",
        "  0.00110097  0.00109727  0.00109358  0.00108993  0.00108629  0.00108268\n",
        "  0.0010791   0.00107554  0.001072    0.00106848  0.00106499  0.00106152\n",
        "  0.00105808  0.00105465  0.00105125  0.00104787  0.00104451  0.00104118\n",
        "  0.00103786  0.00103456  0.00103129  0.00102804  0.0010248   0.00102159\n",
        "  0.0010184   0.00101523  0.00101207  0.00100894  0.00100583  0.00100273\n",
        "  0.00099966  0.0009966   0.00099356  0.00099054  0.00098754  0.00098456\n",
        "  0.00098159  0.00097864  0.00097571  0.0009728   0.0009699   0.00096703\n",
        "  0.00096417  0.00096132  0.00095849  0.00095568  0.00095289  0.00095011\n",
        "  0.00094735  0.0009446   0.00094187  0.00093916  0.00093646  0.00093378\n",
        "  0.00093111  0.00092846  0.00092582  0.0009232   0.00092059  0.00091799\n",
        "  0.00091542  0.00091285  0.0009103   0.00090777  0.00090524  0.00090274\n",
        "  0.00090024  0.00089776  0.0008953   0.00089284  0.0008904   0.00088798\n",
        "  0.00088556  0.00088317  0.00088078  0.0008784   0.00087604  0.00087369\n",
        "  0.00087136  0.00086903  0.00086672  0.00086442  0.00086214  0.00085986\n",
        "  0.0008576   0.00085535  0.00085311  0.00085088  0.00084867  0.00084646\n",
        "  0.00084427  0.00084209  0.00083992  0.00083776  0.00083561  0.00083347\n",
        "  0.00083135  0.00082923  0.00082713  0.00082503  0.00082295  0.00082088\n",
        "  0.00081881  0.00081676  0.00081472  0.00081269  0.00081067  0.00080865\n",
        "  0.00080665  0.00080466  0.00080268  0.00080071  0.00079874  0.00079679\n",
        "  0.00079485  0.00079291  0.00079099  0.00078907  0.00078717  0.00078527\n",
        "  0.00078338  0.00078151  0.00077964  0.00077778])\n"
       ]
      }
     ],
     "prompt_number": 32
    },
    {
     "cell_type": "code",
     "collapsed": false,
     "input": [
      "from sortedcontainers import SortedDict\n",
      "dict_apps={}\n",
      "texts=['Sleepy Baby']\n",
      "texts = wordsRemoveStopwords(texts)\n",
      "corpus2=[dictionary.doc2bow(text) for text in texts]\n",
      "index = similarities.MatrixSimilarity(lda[corpus]) \n",
      "sims=index[lda[corpus2[0]]]\n",
      "L=(list(enumerate(sims)))\n",
      "for k in range(len(L)):\n",
      "    if L[k][1] >0.5:\n",
      "        #print L[k],titles[k]\n",
      "        tok_X = wordsRemoveStopwords([X[k]])\n",
      "        if len(str(tok_X).split(' '))>2:\n",
      "            dict_apps[str(L[k][1])]=[titles[k],X[k],URL[k]]\n",
      "if len(dict_apps)>0:            \n",
      "    s = SortedDict(dict_apps)\n",
      "    list_apps=s.items()[::-1]\n",
      "else:\n",
      "    list_apps=('',\n",
      " [\"\",\n",
      "  \"\",\n",
      "  \"\"])\n",
      "#else s.items=[(['','','',],)]\n",
      "\n",
      "for l in list_apps:\n",
      "    print l, '\\n'\n"
     ],
     "language": "python",
     "metadata": {},
     "outputs": [
      {
       "output_type": "stream",
       "stream": "stderr",
       "text": [
        "WARNING:gensim.similarities.docsim:scanning corpus to determine the number of features (consider setting `num_features` explicitly)\n"
       ]
      },
      {
       "output_type": "stream",
       "stream": "stdout",
       "text": [
        "('0.894024', [u'Tempus Fugit', u'My first Pebble watchface. ', nan]) \n",
        "\n",
        "('0.851432', [u'Minimalistic 15 Seconds ', u'12/24 hr have been merged\\n\\n\\n\\nVery clean, no fuss with a black bar at the bottom of the screen changing every 15 seconds.\\n\\nExpect more in the future. My first watchface made on my first day of Pebble and c development  \\n\\n\\n\\n\\n\\n', nan]) \n",
        "\n",
        "('0.840872', [u'MyFirst', u'My First Pebble Watch Face here', nan]) \n",
        "\n",
        "('0.793635', [u'Braci - Baby Crying Monitor  ', u\"Braci Baby Monitor App able to detect any baby crying sounds very accurately. very sensitive app with a smart algorithm that detects your baby's distress by listening to his/her cries with your smart phones's microphone.\\n\\n\\n\\nBraci App allows parents to stay in connection with their baby by Pebble Watch. On your Pebble, you'll receive an alert including vibration, an icon of a baby on the screen .\", u'https://www.filepicker.io/api/file/ivGHi8fDRQOIKgnIvn8D']) \n",
        "\n",
        "('0.758315', [u'Minimalistic 15 Seconds 12hr', u'Very clean, no fuss with a black bar at the bottom of the screen changing every 15 seconds. \\n\\n\\n\\nExpect more in the future. My first watchface made on my first day of Pebble and c development\\n\\n\\n\\nScreenshot is a rushed mockup, the true watch is slightly different and allot better... Miles better!', nan]) \n",
        "\n",
        "('0.700271', [u'Half Life 2', u'Raise the bar on your pebble with the Half Life 2 \"Raise the Bar\" logo!', nan]) \n",
        "\n",
        "('0.609638', [u'Timecode', u\"A stylized watch face which display hours, minutes and seconds with a graphic code of 12 bars :\\n\\n4 bars for hour, 4 for minutes and 4 for seconds.\\n\\nHow to read the time :\\n\\nBar 1 - top : first 0 to 11 hours, bottom : 12 to 23 hours\\n\\nBar 2 - top : first 6 hours, bottom : second 6 hours\\n\\nBar 3 - top : first 3 hours, bottom : second 3 hours\\n\\nBar 4 - 0, 1 or 2 hours more\\n\\nI'll let you figure the rest !\", nan]) \n",
        "\n",
        "('0.577197', [u'ARTware FACE', u'The first watch face (BETA)', nan]) \n",
        "\n",
        "('0.576869', [u'dangthongdat', u'my very first watchface!!!', nan]) \n",
        "\n",
        "('0.576075', [u'TestFace', u'This is my first face', nan]) \n",
        "\n",
        "('0.574276', [u'Jon Watch', u'Jons first watch face', nan]) \n",
        "\n",
        "('0.524181', [u'Dave ECO', u'Simple puristic Watchface with date, time, seconds-bar and week of year.', nan]) \n",
        "\n",
        "('0.523631', [u'Bar Viceeversa', u\"L'orologio ufficiale del Bar Viceeversa di Curno per Pebble\", nan]) \n",
        "\n",
        "('0.506965', [u'Time Bars', u'Time, in bar format.\\n\\n\\n\\nLeft bar for hours (00-23 for 24 hour mode, 1-12 in 12 hour mode).\\n\\n\\n\\nRight bar for minutes 0-59.', nan]) \n",
        "\n"
       ]
      }
     ],
     "prompt_number": 33
    },
    {
     "cell_type": "code",
     "collapsed": false,
     "input": [
      "tok_X = wordsRemoveStopwords(['Pebble Messenger is nice'])\n",
      "print tok_X"
     ],
     "language": "python",
     "metadata": {},
     "outputs": [
      {
       "output_type": "stream",
       "stream": "stdout",
       "text": [
        "[['pebbl', 'messeng', 'nice']]\n"
       ]
      }
     ],
     "prompt_number": 601
    }
   ],
   "metadata": {}
  }
 ]
}